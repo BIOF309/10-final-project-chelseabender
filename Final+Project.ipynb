{
 "cells": [
  {
   "cell_type": "code",
   "execution_count": 1,
   "metadata": {
    "collapsed": true
   },
   "outputs": [],
   "source": [
    "#Tabula is a tool for liberating data tables trapped inside PDF files\n",
    "import tabula\n",
    "\n",
    "#Pandas is a tool for data manipulation and analysis\n",
    "import pandas as pd\n",
    "\n",
    "#This module extract tables from PDF into pandas DataFrame.   \n",
    "from tabula import wrapper as tabula \n",
    "\n",
    "#Converts tables from PDF into a file.   \n",
    "from tabula import convert_into \n",
    "\n",
    "#Converts tables from PDFs in a directory. Outputs are saved into the same directory as the input directory\n",
    "from tabula import convert_into_by_batch "
   ]
  },
  {
   "cell_type": "code",
   "execution_count": null,
   "metadata": {
    "collapsed": true
   },
   "outputs": [],
   "source": [
    "#The input must be the exact directory path that contains the pdfs\n",
    "path = input(\"What is the directory path that contains the PDFs: \") \n",
    "\n",
    "#This converts tables from PDFs in a directory.\n",
    "#path is the input variable described above\n",
    "#output_format is set to csv, it can be changed to a json or tsv\n",
    "#pages is an optional value. It specifies pages to extract from. It allows`str`,`int`, :obj:`list` of :obj:`int`.\n",
    "#multiple_tables is an optional experimental value. It enables to handle multple tables within a page.\n",
    "tabula.convert_into_by_batch(path, output_format='csv', pages = '2', multiple_tables=True) "
   ]
  }
 ],
 "metadata": {
  "kernelspec": {
   "display_name": "Python 3",
   "language": "python",
   "name": "python3"
  },
  "language_info": {
   "codemirror_mode": {
    "name": "ipython",
    "version": 3
   },
   "file_extension": ".py",
   "mimetype": "text/x-python",
   "name": "python",
   "nbconvert_exporter": "python",
   "pygments_lexer": "ipython3",
   "version": "3.6.3"
  }
 },
 "nbformat": 4,
 "nbformat_minor": 2
}
